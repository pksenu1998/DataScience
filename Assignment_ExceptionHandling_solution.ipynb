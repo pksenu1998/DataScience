{
  "nbformat": 4,
  "nbformat_minor": 0,
  "metadata": {
    "colab": {
      "name": "Assignment_ExceptionHandling_solution.ipynb",
      "provenance": []
    },
    "kernelspec": {
      "name": "python3",
      "display_name": "Python 3"
    }
  },
  "cells": [
    {
      "cell_type": "markdown",
      "metadata": {
        "id": "LoxxphWgJ24H",
        "colab_type": "text"
      },
      "source": [
        "1. Write a function to compute 5/0 and use try/except to catch the exceptions."
      ]
    },
    {
      "cell_type": "code",
      "metadata": {
        "id": "_S78TGmwJ5E4",
        "colab_type": "code",
        "colab": {
          "base_uri": "https://localhost:8080/",
          "height": 68
        },
        "outputId": "9eee5b41-25b6-4492-88f2-6a006c962c53"
      },
      "source": [
        "def main():\n",
        "  numerator=int(input(\"enter the numerator \"))\n",
        "  denomenator=int(input(\"enter the denomenotor\"))\n",
        "  try:\n",
        "    value=numerator/denomenator\n",
        "  except ZeroDivisionError:\n",
        "    print(\"ZeroDivisionError exception\")\n",
        "  else:\n",
        "    print(value)\n",
        "\n",
        "\n",
        "main()"
      ],
      "execution_count": 7,
      "outputs": [
        {
          "output_type": "stream",
          "text": [
            "enter the numerator 10\n",
            "enter the denomenotor0\n",
            "ZeroDivisionError exception\n"
          ],
          "name": "stdout"
        }
      ]
    },
    {
      "cell_type": "markdown",
      "metadata": {
        "id": "lmp18ayKK2wv",
        "colab_type": "text"
      },
      "source": [
        "\n",
        " 2. Implement a Python program to generate all sentences where subject is in [\"Americans\", \"Indians\"] and verb is in [\"Play\", \"watch\"] and the object is in [\"Baseball\",\"cricket\"]. \n",
        " \n",
        "Hint: Subject,Verb and Object should be declared in the program as shown below. \n",
        " \n",
        "subjects=[\"Americans \",\"Indians\"] \n",
        "\n",
        " verbs=[\"play\",\"watch\"] \n",
        " \n",
        " objects=[\"Baseball\",\"Cricket\"] \n",
        " \n",
        "Output should come as below: \n",
        " \n",
        "Americans play Baseball. \n",
        "\n",
        " Americans play Cricket. \n",
        "\n",
        " Americans watch Baseball. \n",
        "\n",
        " Americans watch Cricket. \n",
        "\n",
        " Indians play Baseball. \n",
        "\n",
        " Indians play Cricket. \n",
        "\n",
        " Indians watch Baseball. \n",
        "\n",
        " Indians watch Cricket."
      ]
    },
    {
      "cell_type": "code",
      "metadata": {
        "id": "o9K8pIMnK3zx",
        "colab_type": "code",
        "colab": {
          "base_uri": "https://localhost:8080/",
          "height": 153
        },
        "outputId": "9439cd54-c7bf-4076-82be-6652b827fc8b"
      },
      "source": [
        "subjects=[\"Americans \",\"Indians\"]\n",
        "\n",
        "verbs=[\"play\",\"watch\"]\n",
        "\n",
        "objects=[\"Baseball\",\"Cricket\"]\n",
        "\n",
        "output=[(sub +\" \"+ vb +\" \"+ ob) for sub in subjects for vb in verbs for ob in objects]\n",
        "for val in output:\n",
        "  print(val)"
      ],
      "execution_count": 8,
      "outputs": [
        {
          "output_type": "stream",
          "text": [
            "Americans  play Baseball\n",
            "Americans  play Cricket\n",
            "Americans  watch Baseball\n",
            "Americans  watch Cricket\n",
            "Indians play Baseball\n",
            "Indians play Cricket\n",
            "Indians watch Baseball\n",
            "Indians watch Cricket\n"
          ],
          "name": "stdout"
        }
      ]
    },
    {
      "cell_type": "code",
      "metadata": {
        "id": "4ZO5oOsGW9hS",
        "colab_type": "code",
        "colab": {}
      },
      "source": [
        ""
      ],
      "execution_count": 0,
      "outputs": []
    }
  ]
}