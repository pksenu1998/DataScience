{
  "nbformat": 4,
  "nbformat_minor": 0,
  "metadata": {
    "colab": {
      "name": "Python_Assignment4_solution.ipynb",
      "provenance": []
    },
    "kernelspec": {
      "name": "python3",
      "display_name": "Python 3"
    }
  },
  "cells": [
    {
      "cell_type": "markdown",
      "metadata": {
        "id": "eNrQZfdhbIiE",
        "colab_type": "text"
      },
      "source": [
        "1.1 Write a Python Program(with class concepts) to find the area of the triangle using the below formula. \n",
        " \n",
        "area = (s*(s-a)*(s-b)*(s-c)) ** 0.5 \n",
        " \n",
        "Function to take the length of the sides of triangle from user should be defined in the parent class and function to calculate the area should be defined in subclass."
      ]
    },
    {
      "cell_type": "code",
      "metadata": {
        "id": "BnLRHER4bJ_h",
        "colab_type": "code",
        "colab": {
          "base_uri": "https://localhost:8080/",
          "height": 34
        },
        "outputId": "91d488b4-fbc5-4332-d325-98bd29f3a147"
      },
      "source": [
        "class Lengthinput:\n",
        "    def __init__(self,a,b,c):\n",
        "      self.a=a\n",
        "      self.b=b\n",
        "      self.c=c\n",
        "    \n",
        "\n",
        "class Area(Lengthinput):\n",
        "    def __init__(self,a,b,c):\n",
        "      Lengthinput.a=a\n",
        "      Lengthinput.b=b\n",
        "      Lengthinput.c=c\n",
        "      \n",
        "    def calculatearea(self):\n",
        "      s=(Lengthinput.a+Lengthinput.b+Lengthinput.c)/2\n",
        "      area=(s*(s-Lengthinput.a)*(s-Lengthinput.b)*(s-Lengthinput.c))*0.5\n",
        "      return area\n",
        "\n",
        "\n",
        "\n",
        "obj=Area(4,4,4)\n",
        "area=obj.calculatearea()\n",
        "print(area)\n"
      ],
      "execution_count": 15,
      "outputs": [
        {
          "output_type": "stream",
          "text": [
            "24.0\n"
          ],
          "name": "stdout"
        }
      ]
    },
    {
      "cell_type": "markdown",
      "metadata": {
        "id": "18N-o1FFiunx",
        "colab_type": "text"
      },
      "source": [
        "1.2 Write a function filter_long_words() that takes a list of words and an integer n and returns the list of words that are longer than n"
      ]
    },
    {
      "cell_type": "code",
      "metadata": {
        "id": "N4ghBhXDoCca",
        "colab_type": "code",
        "colab": {
          "base_uri": "https://localhost:8080/",
          "height": 68
        },
        "outputId": "58610fa1-aa0e-43e3-d13d-5dfee0a3f247"
      },
      "source": [
        "def filterword(value,number):\n",
        "  list1=[]\n",
        "  for value1 in value:\n",
        "    if(len(value1)>number):\n",
        "      list1.append(value1)\n",
        "  return list1\n",
        "\n",
        "def main():\n",
        "  value=input(\"Enter the string\").split()\n",
        "  number=int(input(\"Enter the interger\"))\n",
        "  result=filterword(value,number)\n",
        "  print(result)\n",
        "\n",
        "\n",
        "main()"
      ],
      "execution_count": 37,
      "outputs": [
        {
          "output_type": "stream",
          "text": [
            "Enter the stringi love my india\n",
            "Enter the interger3\n",
            "['love', 'india']\n"
          ],
          "name": "stdout"
        }
      ]
    },
    {
      "cell_type": "markdown",
      "metadata": {
        "id": "sMqTdE_lu6tR",
        "colab_type": "text"
      },
      "source": [
        "2.1 Write a Python program using function concept that maps list of words into a list of integers representing the lengths of the corresponding words. \n",
        " \n",
        "Hint: If a list [ ab,cde,erty] is passed on to the python function output should come as [2,3,4] \n",
        " \n",
        "Here 2,3 and 4 are the lengths of the words in the list"
      ]
    },
    {
      "cell_type": "code",
      "metadata": {
        "id": "l002MYGGvAiH",
        "colab_type": "code",
        "colab": {
          "base_uri": "https://localhost:8080/",
          "height": 102
        },
        "outputId": "d946e4b0-bb52-4bc0-82be-b75be882f41d"
      },
      "source": [
        "def filterword(value):\n",
        "  list1=[]\n",
        "  for value1 in value:\n",
        "      list1.append(len(value1))\n",
        "  return list1\n",
        "\n",
        "def main():\n",
        "  list2=[]\n",
        "  number=int(input(\"Enter the number of list input \"))\n",
        "  for i in range(0,number):\n",
        "   list2.append(input(\"enter the word \"))\n",
        "\n",
        "  result=filterword(list2)\n",
        "  print(result)\n",
        "\n",
        "\n",
        "main()"
      ],
      "execution_count": 39,
      "outputs": [
        {
          "output_type": "stream",
          "text": [
            "Enter the number of list input3\n",
            "enter the wordhoy\n",
            "enter the wordhuy\n",
            "enter the wordhhhhh\n",
            "[3, 3, 5]\n"
          ],
          "name": "stdout"
        }
      ]
    },
    {
      "cell_type": "markdown",
      "metadata": {
        "id": "F-KL_sTZ6SKP",
        "colab_type": "text"
      },
      "source": [
        "\n",
        "2.2 Write a Python function which takes a character (i.e. a string of length 1) and returns True if it is a vowel, False otherwise"
      ]
    },
    {
      "cell_type": "code",
      "metadata": {
        "id": "RsZj9XUl6YYd",
        "colab_type": "code",
        "colab": {
          "base_uri": "https://localhost:8080/",
          "height": 51
        },
        "outputId": "322b4f87-0ee8-4a65-9219-d1df6e8f8448"
      },
      "source": [
        "def check(value):\n",
        "  if(value=='a' or value=='e' or value=='i' or value=='o' or value=='u'):\n",
        "   return True\n",
        "  else:\n",
        "     return False\n",
        "def main():\n",
        "  value=input(\"enter the character \")\n",
        "  result=check(value)\n",
        "  print(result)\n",
        "main()"
      ],
      "execution_count": 46,
      "outputs": [
        {
          "output_type": "stream",
          "text": [
            "enter the character a\n",
            "True\n"
          ],
          "name": "stdout"
        }
      ]
    },
    {
      "cell_type": "code",
      "metadata": {
        "id": "weGr1_OF7GJ6",
        "colab_type": "code",
        "colab": {}
      },
      "source": [
        ""
      ],
      "execution_count": 0,
      "outputs": []
    }
  ]
}