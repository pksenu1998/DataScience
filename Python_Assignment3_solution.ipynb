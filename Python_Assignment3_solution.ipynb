{
  "nbformat": 4,
  "nbformat_minor": 0,
  "metadata": {
    "colab": {
      "name": "Python_Assignment3_solution.ipynb",
      "provenance": []
    },
    "kernelspec": {
      "name": "python3",
      "display_name": "Python 3"
    }
  },
  "cells": [
    {
      "cell_type": "code",
      "metadata": {
        "id": "_Hb2FPCuxS9T",
        "colab_type": "code",
        "colab": {}
      },
      "source": [
        ""
      ],
      "execution_count": 0,
      "outputs": []
    },
    {
      "cell_type": "markdown",
      "metadata": {
        "id": "iG2ESMaRxZBo",
        "colab_type": "text"
      },
      "source": [
        "1.1 Write a Python Program to implement your own myreduce() function which works exactly like Python's built-in function reduce() \n",
        "Implementing the multiplication of numbers using reduce"
      ]
    },
    {
      "cell_type": "code",
      "metadata": {
        "id": "jnyg3GcoxZ8_",
        "colab_type": "code",
        "colab": {
          "base_uri": "https://localhost:8080/",
          "height": 34
        },
        "outputId": "dc1674c4-f6f6-4934-9222-01da88ebb203"
      },
      "source": [
        "from functools import reduce\n",
        "Numberlist=[2,3,4,5,6,7,8,9]\n",
        "multiplier=lambda x,y: x*y\n",
        "value=reduce(multiplier,Numberlist)\n",
        "print(value)"
      ],
      "execution_count": 13,
      "outputs": [
        {
          "output_type": "stream",
          "text": [
            "362880\n"
          ],
          "name": "stdout"
        }
      ]
    },
    {
      "cell_type": "markdown",
      "metadata": {
        "id": "SLbMQPFcz_0T",
        "colab_type": "text"
      },
      "source": [
        "Implementing the multiplication of numbers with out using reduce function"
      ]
    },
    {
      "cell_type": "code",
      "metadata": {
        "id": "MMn4hdFzyFLY",
        "colab_type": "code",
        "colab": {
          "base_uri": "https://localhost:8080/",
          "height": 34
        },
        "outputId": "887a5b8d-798b-4062-a925-f6d322095c11"
      },
      "source": [
        "def myreduce(X):\n",
        "    product=1\n",
        "    for x in X:\n",
        "      product=product*x\n",
        "    return product\n",
        "\n",
        "value=myreduce(Numberlist)\n",
        "print(value)  "
      ],
      "execution_count": 15,
      "outputs": [
        {
          "output_type": "stream",
          "text": [
            "362880\n"
          ],
          "name": "stdout"
        }
      ]
    },
    {
      "cell_type": "code",
      "metadata": {
        "id": "QzveQutZyNxV",
        "colab_type": "code",
        "colab": {}
      },
      "source": [
        "\n"
      ],
      "execution_count": 0,
      "outputs": []
    },
    {
      "cell_type": "markdown",
      "metadata": {
        "id": "ZFQ7gEJa0YPK",
        "colab_type": "text"
      },
      "source": [
        "\n",
        " 1.2 Write a Python program to implement your own myfilter() function which works exactly like Python's built-in function filter()\n",
        "filtering the data greater the average of data using filter and myfilter\n"
      ]
    },
    {
      "cell_type": "code",
      "metadata": {
        "id": "lrD2pQZE03Bb",
        "colab_type": "code",
        "colab": {
          "base_uri": "https://localhost:8080/",
          "height": 51
        },
        "outputId": "deaf2797-46e8-4101-d6e4-c835feea4605"
      },
      "source": [
        "import numpy as np\n",
        "list1=[4,5,6,7,8,9.5,10.5]\n",
        "avg=np.average(list1)\n",
        "print(avg)\n",
        "\n",
        "list(filter(lambda X: X>avg,list1))"
      ],
      "execution_count": 20,
      "outputs": [
        {
          "output_type": "stream",
          "text": [
            "7.142857142857143\n"
          ],
          "name": "stdout"
        },
        {
          "output_type": "execute_result",
          "data": {
            "text/plain": [
              "[8, 9.5, 10.5]"
            ]
          },
          "metadata": {
            "tags": []
          },
          "execution_count": 20
        }
      ]
    },
    {
      "cell_type": "markdown",
      "metadata": {
        "id": "Dp2yHtvX1gRp",
        "colab_type": "text"
      },
      "source": [
        "Now implementing creating own myflter function "
      ]
    },
    {
      "cell_type": "code",
      "metadata": {
        "id": "gFTwRNKF1nRH",
        "colab_type": "code",
        "colab": {
          "base_uri": "https://localhost:8080/",
          "height": 34
        },
        "outputId": "bf0b3c8d-64c9-4a07-f741-8aab05b70109"
      },
      "source": [
        "list1=[4,5,6,7,8,9.5,10.5]\n",
        "def myfilter(X):\n",
        "  list2=[]\n",
        "  avg=np.average(list1)\n",
        "  for x in X:\n",
        "    if x>avg:\n",
        "      list2.append(x)\n",
        "  return list2\n",
        "value=myfilter(list1)\n",
        "print(value)"
      ],
      "execution_count": 24,
      "outputs": [
        {
          "output_type": "stream",
          "text": [
            "[8, 9.5, 10.5]\n"
          ],
          "name": "stdout"
        }
      ]
    },
    {
      "cell_type": "markdown",
      "metadata": {
        "id": "_qg03PEV2-SE",
        "colab_type": "text"
      },
      "source": [
        "\n",
        " 2. Implement List comprehensions to produce the following lists. \n",
        "Write List comprehensions to produce the following Lists \n",
        "\n",
        "['A', 'C', 'A', 'D', 'G', 'I', ’L’, ‘ D’] \n",
        " \n",
        "['x', 'xx', 'xxx', 'xxxx', 'y', 'yy', 'yyy', 'yyyy', 'z', 'zz', 'zzz', 'zzzz']\n",
        "\n",
        "['x', 'y', 'z', 'xx', 'yy', 'zz', 'xxx', 'yyy', 'zzz', 'xxxx', 'yyyy', 'zzzz']\n",
        "\n",
        "[[2], [3], [4], [3], [4], [5], [4], [5], [6]] \n",
        "\n",
        "[[2, 3, 4, 5], [3, 4, 5, 6], [4, 5, 6, 7], [5, 6, 7, 8]] \n",
        "\n",
        "\n",
        "[(1, 1), (2, 1), (3, 1), (1, 2), (2, 2), (3, 2), (1, 3), (2, 3), (3, 3)] "
      ]
    },
    {
      "cell_type": "code",
      "metadata": {
        "id": "MJ3yCBmc2_pA",
        "colab_type": "code",
        "colab": {
          "base_uri": "https://localhost:8080/",
          "height": 34
        },
        "outputId": "38f674bf-0879-4031-ef60-7f714505603d"
      },
      "source": [
        "letters=\"ACADGILD\"\n",
        "alphabet= [i for  i in letters]\n",
        "print(alphabet)"
      ],
      "execution_count": 26,
      "outputs": [
        {
          "output_type": "stream",
          "text": [
            "['A', 'C', 'A', 'D', 'G', 'I', 'L', 'D']\n"
          ],
          "name": "stdout"
        }
      ]
    },
    {
      "cell_type": "code",
      "metadata": {
        "id": "r1yXhBYP-IHi",
        "colab_type": "code",
        "colab": {
          "base_uri": "https://localhost:8080/",
          "height": 34
        },
        "outputId": "5fc10b6b-b28f-4759-d2a0-91bb647c4960"
      },
      "source": [
        "value=['X','Y','Z']\n",
        "result=[result*num for result in value for num in range(1,5)]\n",
        "print(result)"
      ],
      "execution_count": 27,
      "outputs": [
        {
          "output_type": "stream",
          "text": [
            "['X', 'XX', 'XXX', 'XXXX', 'Y', 'YY', 'YYY', 'YYYY', 'Z', 'ZZ', 'ZZZ', 'ZZZZ']\n"
          ],
          "name": "stdout"
        }
      ]
    },
    {
      "cell_type": "code",
      "metadata": {
        "id": "V_u_flUH-mxb",
        "colab_type": "code",
        "colab": {
          "base_uri": "https://localhost:8080/",
          "height": 34
        },
        "outputId": "831d7de1-b097-465a-bbb8-c4b87093f329"
      },
      "source": [
        "value1=['X','Y','Z']\n",
        "\n",
        "reslut1=[result1*num1 for num1 in range(1,5) for result1 in value1  ]\n",
        "print(reslut1)"
      ],
      "execution_count": 38,
      "outputs": [
        {
          "output_type": "stream",
          "text": [
            "['X', 'Y', 'Z', 'XX', 'YY', 'ZZ', 'XXX', 'YYY', 'ZZZ', 'XXXX', 'YYYY', 'ZZZZ']\n"
          ],
          "name": "stdout"
        }
      ]
    },
    {
      "cell_type": "code",
      "metadata": {
        "id": "KBuV7M-v_hQW",
        "colab_type": "code",
        "colab": {
          "base_uri": "https://localhost:8080/",
          "height": 34
        },
        "outputId": "ee14804b-7329-43e2-a894-25b120a9ac6c"
      },
      "source": [
        "input_list = [2,3,4]\n",
        "result = [ [item+num] for item in input_list for num in range(0,3)]\n",
        "print(result)\n",
        "\n"
      ],
      "execution_count": 48,
      "outputs": [
        {
          "output_type": "stream",
          "text": [
            "[[2], [3], [4], [3], [4], [5], [4], [5], [6]]\n"
          ],
          "name": "stdout"
        }
      ]
    },
    {
      "cell_type": "code",
      "metadata": {
        "id": "giqT4g6FB_zv",
        "colab_type": "code",
        "colab": {
          "base_uri": "https://localhost:8080/",
          "height": 34
        },
        "outputId": "88a480fd-2faf-4450-c2c7-c19f79ee3ec1"
      },
      "source": [
        "input_list = [2,3,4,5]\n",
        "result = [[item+num for item in input_list] for num in range(0,4)]\n",
        "print(result)\n"
      ],
      "execution_count": 53,
      "outputs": [
        {
          "output_type": "stream",
          "text": [
            "[[2, 3, 4, 5], [3, 4, 5, 6], [4, 5, 6, 7], [5, 6, 7, 8]]\n"
          ],
          "name": "stdout"
        }
      ]
    },
    {
      "cell_type": "code",
      "metadata": {
        "id": "ROmWMh4IGACq",
        "colab_type": "code",
        "colab": {
          "base_uri": "https://localhost:8080/",
          "height": 34
        },
        "outputId": "d25d13f1-45e6-427e-d50c-3d0be6e1ff37"
      },
      "source": [
        "input_list = [1,2,3]\n",
        "result = [(a,b) for a in input_list for b in input_list]\n",
        "print(\"[2,3,4] =>\" +  str(result))\n"
      ],
      "execution_count": 54,
      "outputs": [
        {
          "output_type": "stream",
          "text": [
            "[2,3,4] =>[(1, 1), (1, 2), (1, 3), (2, 1), (2, 2), (2, 3), (3, 1), (3, 2), (3, 3)]\n"
          ],
          "name": "stdout"
        }
      ]
    },
    {
      "cell_type": "code",
      "metadata": {
        "id": "uOfTDbuuHMc9",
        "colab_type": "code",
        "colab": {}
      },
      "source": [
        ""
      ],
      "execution_count": 0,
      "outputs": []
    }
  ]
}