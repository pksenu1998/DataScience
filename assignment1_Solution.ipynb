{
  "nbformat": 4,
  "nbformat_minor": 0,
  "metadata": {
    "colab": {
      "name": "assignment1_Solution.ipynb",
      "provenance": [],
      "collapsed_sections": []
    },
    "kernelspec": {
      "name": "python3",
      "display_name": "Python 3"
    }
  },
  "cells": [
    {
      "cell_type": "markdown",
      "metadata": {
        "id": "cIqYvI3OHScH",
        "colab_type": "text"
      },
      "source": [
        "1.Write a program which will find all such numbers which are divisible by 7 but are not a multiple of 5, between 2000 and 3200 (both included). The numbers obtained should be printed in a comma-separated sequence on a single line. \n",
        "\n",
        "\n"
      ]
    },
    {
      "cell_type": "code",
      "metadata": {
        "id": "S_9aGkSlHZ9n",
        "colab_type": "code",
        "colab": {
          "base_uri": "https://localhost:8080/",
          "height": 54
        },
        "outputId": "50af0aab-05d9-42cb-8017-77f1a03df482"
      },
      "source": [
        "start = 2000\n",
        "stop  = 3200\n",
        "step  = 1\n",
        "stop +=step #now stop is 3200\n",
        "for i in range(start,stop,step):\n",
        "    if i%7==0 and i%5!=0:\n",
        "      print(i,end=',')\n",
        "    "
      ],
      "execution_count": 18,
      "outputs": [
        {
          "output_type": "stream",
          "text": [
            "2002,2009,2016,2023,2037,2044,2051,2058,2072,2079,2086,2093,2107,2114,2121,2128,2142,2149,2156,2163,2177,2184,2191,2198,2212,2219,2226,2233,2247,2254,2261,2268,2282,2289,2296,2303,2317,2324,2331,2338,2352,2359,2366,2373,2387,2394,2401,2408,2422,2429,2436,2443,2457,2464,2471,2478,2492,2499,2506,2513,2527,2534,2541,2548,2562,2569,2576,2583,2597,2604,2611,2618,2632,2639,2646,2653,2667,2674,2681,2688,2702,2709,2716,2723,2737,2744,2751,2758,2772,2779,2786,2793,2807,2814,2821,2828,2842,2849,2856,2863,2877,2884,2891,2898,2912,2919,2926,2933,2947,2954,2961,2968,2982,2989,2996,3003,3017,3024,3031,3038,3052,3059,3066,3073,3087,3094,3101,3108,3122,3129,3136,3143,3157,3164,3171,3178,3192,3199,"
          ],
          "name": "stdout"
        }
      ]
    },
    {
      "cell_type": "code",
      "metadata": {
        "id": "RlAkM__SH9XC",
        "colab_type": "code",
        "colab": {}
      },
      "source": [
        ""
      ],
      "execution_count": 0,
      "outputs": []
    },
    {
      "cell_type": "markdown",
      "metadata": {
        "id": "36vNbVdWNWVY",
        "colab_type": "text"
      },
      "source": [
        "2.Write a Python program to accept the user's first and last name and then getting them printed in the the reverse order with a space between first name and last name. "
      ]
    },
    {
      "cell_type": "code",
      "metadata": {
        "id": "KUUYeUlmNYBH",
        "colab_type": "code",
        "colab": {
          "base_uri": "https://localhost:8080/",
          "height": 68
        },
        "outputId": "ec33cd97-46a9-43df-a7b4-56f66a36c647"
      },
      "source": [
        "FirstName=input('Enter your first name')\n",
        "LastName=input('Enter your last name')\n",
        "print(LastName +\" \" +FirstName)\n",
        "\n"
      ],
      "execution_count": 22,
      "outputs": [
        {
          "output_type": "stream",
          "text": [
            "Enter your first namePrince\n",
            "Enter your last nameKumar\n",
            "Kumar Prince\n"
          ],
          "name": "stdout"
        }
      ]
    },
    {
      "cell_type": "code",
      "metadata": {
        "id": "i-eTEZ0NQXLj",
        "colab_type": "code",
        "colab": {}
      },
      "source": [
        ""
      ],
      "execution_count": 0,
      "outputs": []
    },
    {
      "cell_type": "markdown",
      "metadata": {
        "id": "NSGxYFUnQa-Y",
        "colab_type": "text"
      },
      "source": [
        "3.Write a Python program to find the volume of a sphere with diameter 12 cm.  \n",
        " \n",
        "Formula: V=4/3 * π * r 3"
      ]
    },
    {
      "cell_type": "markdown",
      "metadata": {
        "id": "IqZZkYG2Q2Kb",
        "colab_type": "text"
      },
      "source": [
        ""
      ]
    },
    {
      "cell_type": "code",
      "metadata": {
        "id": "Wv7j1VhRQb9x",
        "colab_type": "code",
        "colab": {
          "base_uri": "https://localhost:8080/",
          "height": 34
        },
        "outputId": "2007139b-e95b-4b32-954b-a0fb75f9fb6f"
      },
      "source": [
        "diameter=12\n",
        "pi = 3.1415926535897931\n",
        "radius= diameter/2\n",
        "volume= 4.0/3.0*pi* r**3\n",
        "print('The volume of the sphere is: ',volume)"
      ],
      "execution_count": 26,
      "outputs": [
        {
          "output_type": "stream",
          "text": [
            "The volume of the sphere is:  904.7786842338603\n"
          ],
          "name": "stdout"
        }
      ]
    },
    {
      "cell_type": "markdown",
      "metadata": {
        "id": "oLYy4AzHRRns",
        "colab_type": "text"
      },
      "source": [
        "4.Write a program which accepts a sequence of comma-separated numbers from console and generate a list."
      ]
    },
    {
      "cell_type": "code",
      "metadata": {
        "id": "5D0lB_7SRTCC",
        "colab_type": "code",
        "colab": {
          "base_uri": "https://localhost:8080/",
          "height": 68
        },
        "outputId": "e2f80f55-8dd7-4242-8a89-820447b7d004"
      },
      "source": [
        "Numbers=input('Enter comma-separated numbers')\n",
        "listvalue=Numbers.split(',')\n",
        "print('List: ',listvalue)"
      ],
      "execution_count": 30,
      "outputs": [
        {
          "output_type": "stream",
          "text": [
            "ERROR! Session/line number was not unique in database. History logging moved to new session 65\n",
            "Enter comma-separated numbers22,33,44\n",
            "List:  ['22', '33', '44']\n"
          ],
          "name": "stdout"
        }
      ]
    },
    {
      "cell_type": "markdown",
      "metadata": {
        "id": "vstVX0F-T_Cb",
        "colab_type": "text"
      },
      "source": [
        "\n",
        "\n",
        "```\n",
        "5.Create the below pattern using nested for loop in Python. \n",
        " \n",
        " \n",
        "*  \n",
        "* *\n",
        "* * *  \n",
        "* * * *  \n",
        "* * * * *  \n",
        "* * * *  \n",
        "* * *  \n",
        "* *  \n",
        "*\n",
        "\n",
        "```"
      ]
    },
    {
      "cell_type": "code",
      "metadata": {
        "id": "5Vz1IjrWUFkc",
        "colab_type": "code",
        "colab": {
          "base_uri": "https://localhost:8080/",
          "height": 357
        },
        "outputId": "0dfa2ec0-319a-42b2-b446-7269193cd71c"
      },
      "source": [
        "for i in range(0,5,1):\n",
        "  for j in range(i): \n",
        "    print('* ',end='')\n",
        "  print('\\n')\n",
        "\n",
        "for i in range(5,0,-1):\n",
        "  for j in range(i): \n",
        "    print('* ',end='')\n",
        "  print('\\n')\n"
      ],
      "execution_count": 45,
      "outputs": [
        {
          "output_type": "stream",
          "text": [
            "\n",
            "\n",
            "* \n",
            "\n",
            "* * \n",
            "\n",
            "* * * \n",
            "\n",
            "* * * * \n",
            "\n",
            "* * * * * \n",
            "\n",
            "* * * * \n",
            "\n",
            "* * * \n",
            "\n",
            "* * \n",
            "\n",
            "* \n",
            "\n"
          ],
          "name": "stdout"
        }
      ]
    },
    {
      "cell_type": "markdown",
      "metadata": {
        "id": "LInUADVcWpwQ",
        "colab_type": "text"
      },
      "source": [
        "6.Write a Python program to reverse a word after accepting the input from the user. \n",
        " \n",
        "Sample Output: \n",
        " \n",
        " \n",
        " \n",
        " \n",
        " \n",
        " \n",
        " \n",
        " \n",
        "\n",
        "Input word: Ineuron\n",
        "Output: noruenI\n"
      ]
    },
    {
      "cell_type": "code",
      "metadata": {
        "id": "g5gO8Z_OWsna",
        "colab_type": "code",
        "colab": {
          "base_uri": "https://localhost:8080/",
          "height": 51
        },
        "outputId": "3bed63b2-b87e-48b5-eece-673f82bcc53a"
      },
      "source": [
        "word=input('Enter the word')\n",
        "print(word[::-1])"
      ],
      "execution_count": 49,
      "outputs": [
        {
          "output_type": "stream",
          "text": [
            "Enter the wordIneuron\n",
            "noruenI\n"
          ],
          "name": "stdout"
        }
      ]
    },
    {
      "cell_type": "markdown",
      "metadata": {
        "id": "A00jsRVXXXBt",
        "colab_type": "text"
      },
      "source": [
        "7.Write a Python Program to print the given string in the format specified in the ​sample output. \n",
        " WE, THE PEOPLE OF INDIA, having solemnly resolved to constitute India into a SOVEREIGN, SOCIALIST, SECULAR, DEMOCRATIC REPUBLIC and to secure to all its citizens \n",
        " \n",
        "Sample Output: \n",
        " \n",
        "WE, THE PEOPLE OF INDIA,\n",
        "having solemnly resolved to constitute India into a SOVEREIGN, !\n",
        "SOCIALIST, SECULAR, DEMOCRATIC REPUBLIC    \n",
        "and to secure to all its citizens"
      ]
    },
    {
      "cell_type": "code",
      "metadata": {
        "id": "02OLjrJCXcxg",
        "colab_type": "code",
        "colab": {
          "base_uri": "https://localhost:8080/",
          "height": 136
        },
        "outputId": "0c0eac5b-d25e-48eb-d582-076070ec2f00"
      },
      "source": [
        "sentence= \"WE, THE PEOPLE OF INDIA, having solemnly resolved to constitute India into a SOVEREIGN, SOCIALIST, SECULAR, DEMOCRATIC REPUBLIC and to secure to all its citizens\"\n",
        "formatsentence = \"\\n\\n\" + sentence.replace(\"INDIA, \", \"INDIA,\\n\").replace(\"SOVEREIGN, \", \"SOVEREIGN, !\\n\").replace(\"REPUBLIC \", \"REPUBLIC \\n\") +\"\\n\"\n",
        "print (\"Format sentence : \" + formatsentence)"
      ],
      "execution_count": 64,
      "outputs": [
        {
          "output_type": "stream",
          "text": [
            "Format sentence : \n",
            "\n",
            "WE, THE PEOPLE OF INDIA,\n",
            "having solemnly resolved to constitute India into a SOVEREIGN, !\n",
            "SOCIALIST, SECULAR, DEMOCRATIC REPUBLIC \n",
            "and to secure to all its citizens\n",
            "\n"
          ],
          "name": "stdout"
        }
      ]
    }
  ]
}